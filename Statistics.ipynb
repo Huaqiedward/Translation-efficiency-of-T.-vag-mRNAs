{
 "cells": [
  {
   "cell_type": "code",
   "execution_count": 2,
   "metadata": {
    "collapsed": true
   },
   "outputs": [],
   "source": [
    "#Use two different methods to determine the correlation between translation efficiency and MFE, using original data or two masks\n",
    "import pandas as pd\n",
    "import scipy.stats as sp\n",
    "\n",
    "effi_MFE=pd.read_csv('../data/effi_MFE.csv',index_col='Gene_ID')\n",
    "#sp.spearmanr(effi_MFE['Translation_efficiency'],effi_MFE['MFE'])\n",
    "#sp.pearsonr(effi_MFE['Translation_efficiency'],effi_MFE['MFE'])\n",
    "\n",
    "mask1= (effi_MFE['Number_of_ESTs']>10) & (effi_MFE['Total_Number_of_Spectra']>3)\n",
    "effi_MFE_filtered1=effi_MFE[mask1]\n",
    "#sp.spearmanr(effi_MFE_filtered1['Translation_efficiency'],effi_MFE_filtered1['MFE'])\n",
    "#sp.pearsonr(effi_MFE_filtered1['Translation_efficiency'],effi_MFE_filtered1['MFE'])\n",
    "\n",
    "mask2= mask1 & (effi_MFE['Promoter_type']=='Inr_40nt')\n",
    "effi_MFE_filtered2=effi_MFE[mask2]\n",
    "#sp.spearmanr(effi_MFE_filtered2['Translation_efficiency'],effi_MFE_filtered2['MFE'])\n",
    "#sp.pearsonr(effi_MFE_filtered2['Translation_efficiency'],effi_MFE_filtered2['MFE'])"
   ]
  },
  {
   "cell_type": "code",
   "execution_count": 1,
   "metadata": {
    "collapsed": false
   },
   "outputs": [
    {
     "name": "stdout",
     "output_type": "stream",
     "text": [
      "SpearmanrResult(correlation=0.035526308628998832, pvalue=0.1741310305763959)\n",
      "SpearmanrResult(correlation=0.17551608084542419, pvalue=9.0886381373351344e-09)\n",
      "SpearmanrResult(correlation=0.20135839970039066, pvalue=2.6624479609516251e-08)\n"
     ]
    }
   ],
   "source": [
    "import pandas as pd\n",
    "import scipy.stats as sp\n",
    "\n",
    "effi_CAI= pd.read_csv('../data/CAI_values_CSV/trans_effi_CAI.csv', index_col='Gene_ID')\n",
    "\n",
    "trans_effi=effi_CAI['Translation_efficiency']\n",
    "CAI=effi_CAI['CAI']\n",
    "print(sp.spearmanr(trans_effi,CAI))\n",
    "\n",
    "mask_1=(effi_CAI['Total_Number_of_Spectra']>1) & (effi_CAI['Number_of_ESTs']>4)\n",
    "effi_CAI_m1=effi_CAI[mask_1]\n",
    "trans_effi_m1=effi_CAI_m1['Translation_efficiency']\n",
    "CAI_m1=effi_CAI_m1['CAI']\n",
    "print(sp.spearmanr(trans_effi_m1,CAI_m1))\n",
    "\n",
    "mask_2=(effi_CAI['Total_Number_of_Spectra']>3) & (effi_CAI['Number_of_ESTs']>9)\n",
    "effi_CAI_m2=effi_CAI[mask_2]\n",
    "trans_effi_m2=effi_CAI_m2['Translation_efficiency']\n",
    "CAI_m2=effi_CAI_m2['CAI']\n",
    "print(sp.spearmanr(trans_effi_m2,CAI_m2))"
   ]
  },
  {
   "cell_type": "code",
   "execution_count": 3,
   "metadata": {
    "collapsed": false
   },
   "outputs": [
    {
     "name": "stdout",
     "output_type": "stream",
     "text": [
      "SpearmanrResult(correlation=0.19870710491086019, pvalue=9.2098545016361605e-10)\n",
      "SpearmanrResult(correlation=-0.10418913778950424, pvalue=0.0014381995798793241)\n",
      "SpearmanrResult(correlation=0.0076351093343774677, pvalue=0.81583475992874854)\n"
     ]
    }
   ],
   "source": [
    "import pandas as pd\n",
    "import scipy.stats as sp\n",
    "\n",
    "effi_MFE_CAI= pd.read_csv('../data/4_CAI_values_CSV/trans_effi_MFE_CAI.csv', index_col='Gene_ID')\n",
    "trans_effi=effi_MFE_CAI['Translation_efficiency']\n",
    "CAI=effi_MFE_CAI['CAI']\n",
    "MFE_5=effi_MFE_CAI['MFE_5terminus']\n",
    "MFE_key=effi_MFE_CAI['MFE_key']\n",
    "print(sp.spearmanr(trans_effi,CAI))\n",
    "print(sp.spearmanr(trans_effi,MFE_5))\n",
    "print(sp.spearmanr(trans_effi,MFE_key))"
   ]
  },
  {
   "cell_type": "code",
   "execution_count": 25,
   "metadata": {
    "collapsed": false
   },
   "outputs": [],
   "source": [
    "# This is to do t-test for difference between paired mean values \n",
    "import scipy.stats as sp\n",
    "import pandas as pd\n",
    "import numpy as np\n",
    "\n",
    "final_output=[['window_index','t_value','p_value']]\n",
    "stats_top200= pd.read_csv('../data/8_top_bottom_200_effi/statistaics_values_MFE_windows_top200_TSS_100CDS.csv',index_col='0')\n",
    "stats_bottom200= pd.read_csv('../data/8_top_bottom_200_effi/statistaics_values_MFE_windows_bottom200_TSS_100CDS.csv',index_col='0')\n",
    "for i in range(71,-27,-1):\n",
    "    output=[]\n",
    "    values_top200=list(stats_top200.ix[i,:])\n",
    "    values_bottom200=list(stats_bottom200.ix[i,:])\n",
    "    mean1=values_top200[0]\n",
    "    std1=values_top200[1]\n",
    "    nb1=values_top200[2]\n",
    "    mean2=values_bottom200[0]\n",
    "    std2=values_bottom200[1]\n",
    "    nb2=values_bottom200[2]    \n",
    "    result=sp.ttest_ind_from_stats(mean1, std1, nb1, mean2, std2, nb2, equal_var=True)\n",
    "    output=[i+14,result[0],result[1]]\n",
    "    final_output.append(output)\n",
    "np.savetxt('../data/9_statistics/t-tests_top_bottom_200.txt',np.array(final_output),fmt='%s',delimiter='\\t')"
   ]
  },
  {
   "cell_type": "code",
   "execution_count": 3,
   "metadata": {
    "collapsed": false
   },
   "outputs": [],
   "source": [
    "# This is to do t-test for difference between paired mean values \n",
    "import scipy.stats as sp\n",
    "import pandas as pd\n",
    "import numpy as np\n",
    "\n",
    "final_output=[['window_index','t_value','p_value']]\n",
    "stats_ori= pd.read_csv('../data/5_TSS_100CDS_general_trend_GC/statistaics_MFE_ori_EST5_or_MS2.csv',index_col='Window_ID')\n",
    "stats_mut= pd.read_table('../data/6_TSS_100CDS_permutation/statistics_MFE_mut_EST5_or_MS2.txt',sep='\\t',index_col='Window_ID')\n",
    "for i in range(71,-27,-1):\n",
    "    output=[]\n",
    "    values_ori=list(stats_ori.ix[i,:])\n",
    "    values_mut=list(stats_mut.ix[i,:])\n",
    "    mean1=values_ori[0]\n",
    "    std1=values_ori[1]\n",
    "    nb1=values_ori[2]\n",
    "    mean2=values_mut[0]\n",
    "    std2=values_mut[1]\n",
    "    nb2=values_mut[2]    \n",
    "    result=sp.ttest_ind_from_stats(mean1, std1, nb1, mean2, std2, nb2, equal_var=True)\n",
    "    output=[i+14,result[0],result[1]]\n",
    "    final_output.append(output)\n",
    "np.savetxt('../data/9_statistics/t-tests_ori_mut_or.txt',np.array(final_output),fmt='%s',delimiter='\\t')"
   ]
  },
  {
   "cell_type": "code",
   "execution_count": 4,
   "metadata": {
    "collapsed": true
   },
   "outputs": [],
   "source": [
    "# This is to do t-test for difference between paired mean values \n",
    "import scipy.stats as sp\n",
    "import pandas as pd\n",
    "import numpy as np\n",
    "\n",
    "final_output=[['window_index','t_value','p_value']]\n",
    "stats_MS= pd.read_csv('../data/7_MS_EST_only_comparison/statistaics_values_MFE_windows_nr_TSS_100CDS_valid_MS2_only.csv',index_col='0')\n",
    "stats_EST= pd.read_csv('../data/7_MS_EST_only_comparison/statistaics_values_MFE_windows_nr_TSS_100CDS_valid_EST5_only.csv',index_col='0')\n",
    "for i in range(71,-27,-1):\n",
    "    output=[]\n",
    "    values_MS=list(stats_MS.ix[i,:])\n",
    "    values_EST=list(stats_EST.ix[i,:])\n",
    "    mean1=values_MS[0]\n",
    "    std1=values_MS[1]\n",
    "    nb1=values_MS[2]\n",
    "    mean2=values_EST[0]\n",
    "    std2=values_EST[1]\n",
    "    nb2=values_EST[2]    \n",
    "    result=sp.ttest_ind_from_stats(mean1, std1, nb1, mean2, std2, nb2, equal_var=True)\n",
    "    output=[i+14,result[0],result[1]]\n",
    "    final_output.append(output)\n",
    "np.savetxt('../data/9_statistics/t-tests_MS_EST_only.txt',np.array(final_output),fmt='%s',delimiter='\\t')"
   ]
  },
  {
   "cell_type": "code",
   "execution_count": 2,
   "metadata": {
    "collapsed": false
   },
   "outputs": [],
   "source": [
    "#This is to get the windows with significant difference (p<0.01) in a t-test\n",
    "import pandas as pd\n",
    "\n",
    "test_values= pd.read_table('../data/9_statistics/t-tests_MS_EST_only.txt',sep='\\t',index_col='window_index')\n",
    "test_significant=test_values[test_values['p_value']<0.05]\n",
    "test_significant.to_csv('../data/9_statistics/significant_MS_EST_only_005.csv')"
   ]
  },
  {
   "cell_type": "code",
   "execution_count": 9,
   "metadata": {
    "collapsed": false
   },
   "outputs": [
    {
     "name": "stdout",
     "output_type": "stream",
     "text": [
      "1.66229980934e-172\n"
     ]
    }
   ],
   "source": [
    "# This is to do t-test for difference between CAI values from diff\n",
    "import pandas as pd\n",
    "import scipy.stats as sp\n",
    "\n",
    "table_either=pd.read_csv('../data/4_CAI_values_CSV/EST5_or_MS2_CAI.csv', index_col='Gene_ID')\n",
    "CAI_either=list(table_either['CAI'])\n",
    "table_both=pd.read_csv('../data/4_CAI_values_CSV/trans_effi_CAI.csv', index_col='Gene_ID')\n",
    "CAI_both=list(table_both['CAI'])\n",
    "table_MS_only=pd.read_csv('../data/4_CAI_values_CSV/MS2_only_CAI.csv', index_col='Gene_ID')\n",
    "CAI_MS_only=list(table_MS_only['CAI'])\n",
    "table_EST_only=pd.read_csv('../data/4_CAI_values_CSV/EST5_only_CAI.csv', index_col='Gene_ID')\n",
    "CAI_EST_only=list(table_EST_only['CAI'])\n",
    "result=sp.ttest_ind(CAI_either,CAI_both)\n",
    "print(result[1])"
   ]
  },
  {
   "cell_type": "code",
   "execution_count": 13,
   "metadata": {
    "collapsed": false
   },
   "outputs": [],
   "source": [
    "# This is to do t-tests for stable transfection result\n",
    "import scipy.stats as sp\n",
    "import pandas as pd\n",
    "import numpy as np\n",
    "\n",
    "stats= pd.read_csv('../data/9_statistics/stable_transfection.csv',index_col='Number')\n",
    "output=[]\n",
    "for i in range(1,18):    \n",
    "    values_1=list(stats.ix[i,:])\n",
    "    nb1=values_1[0]\n",
    "    mean1=values_1[1]\n",
    "    std1=values_1[2]\n",
    "    ID1=values_1[3]\n",
    "    for j in range(2,17):\n",
    "        values_2=list(stats.ix[j,:])\n",
    "        nb2=values_2[0]\n",
    "        mean2=values_2[1]\n",
    "        std2=values_2[2]\n",
    "        ID2=values_2[3]\n",
    "        t_test=sp.ttest_ind_from_stats(mean1, std1, nb1, mean2, std2, nb2, equal_var=True)\n",
    "        output.append([ID1, ID2, t_test[1]])\n",
    "np.savetxt('../data/9_statistics/t-tests_stable_expression.csv',np.array(output),fmt='%s',delimiter=',')\n"
   ]
  }
 ],
 "metadata": {
  "kernelspec": {
   "display_name": "Python 2",
   "language": "python",
   "name": "python2"
  },
  "language_info": {
   "codemirror_mode": {
    "name": "ipython",
    "version": 2
   },
   "file_extension": ".py",
   "mimetype": "text/x-python",
   "name": "python",
   "nbconvert_exporter": "python",
   "pygments_lexer": "ipython2",
   "version": "2.7.13"
  }
 },
 "nbformat": 4,
 "nbformat_minor": 2
}
