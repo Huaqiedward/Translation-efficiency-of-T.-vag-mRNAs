{
 "cells": [
  {
   "cell_type": "code",
   "execution_count": 7,
   "metadata": {
    "collapsed": false
   },
   "outputs": [
    {
     "name": "stdout",
     "output_type": "stream",
     "text": [
      "Read 554 sequences and write 531 valid.\n"
     ]
    }
   ],
   "source": [
    "#Keep the full length, but filter out invalid sequences. Run this before searching for promoter.\n",
    "from Bio import SeqIO\n",
    "from Bio.Alphabet import IUPAC\n",
    "from Bio.Seq import Seq\n",
    "from Bio.SeqRecord import SeqRecord\n",
    "import re\n",
    "\n",
    "i=0 #i is used to count the number of input sequences\n",
    "j=0 #j is used to count the number of output sequences\n",
    "valid_seq=[] #Create a blank list for those valid sequences\n",
    "for rec in SeqIO.parse(\"../data/1_Original_fasta/MS2_only_-35_+5.fasta\", \"fasta\",IUPAC.unambiguous_dna):\n",
    "    i+=1 #Add 1 to total input number\n",
    "    if re.search('\\AATG[ATCG]+T[AG][GA]$', str(rec.seq[35:-5])): \n",
    "    # Check if the 51-53th are ATG, if all bases are ATCG and if there's a stop codon\n",
    "        protein=rec.seq[35:-5].translate(to_stop=True) #Translate the putative CDS region to protein\n",
    "        if len(protein)==(len(rec)-40)/3-1: #check if there's a internal stop codon\n",
    "            rec_valid=SeqRecord(Seq(str(rec.seq),rec.seq.alphabet),id=rec.id,description='valid')\n",
    "    # Save the original sequence, keep the original id number and add the 'valid' mark. \n",
    "            valid_seq.append(rec_valid) # Put the valid CDS to the list\n",
    "            j+=1 #add one to the number of output sequences\n",
    "SeqIO.write(valid_seq, \"../data/2_valid_full_seq/valid_MS2_only.fasta\", \"fasta\") \n",
    "# At last output the list of valid sequences as a new .fasta file\n",
    "print (\"Read %i sequences and write %i valid.\" %(i,j)) #Tell the user the numbers of input and output sequences "
   ]
  },
  {
   "cell_type": "code",
   "execution_count": 8,
   "metadata": {
    "collapsed": false
   },
   "outputs": [
    {
     "name": "stdout",
     "output_type": "stream",
     "text": [
      "Read 554 sequences and write 531 CDS.\n"
     ]
    }
   ],
   "source": [
    "#This is to get the CDS of each gene, before calculating the CAI\n",
    "from Bio import SeqIO\n",
    "from Bio.Alphabet import IUPAC\n",
    "from Bio.Seq import Seq\n",
    "from Bio.SeqRecord import SeqRecord\n",
    "import re\n",
    "\n",
    "i=0 #i is used to count the number of input sequences\n",
    "j=0 #j is used to count the number of output sequences\n",
    "CDS_seq=[] #Create a blank list for those CDS sequences\n",
    "for rec in SeqIO.parse(\"../data/1_Original_fasta/MS2_only_-35_+5.fasta\", \"fasta\",IUPAC.unambiguous_dna): \n",
    "    i+=1 #Add 1 to total input number\n",
    "    if re.search('\\AATG[ATCG]+T[AG][GA]$', str(rec.seq[35:-5])): \n",
    "    # Check if the 51-53th are ATG, if all bases are ATCG and if there's a stop codon\n",
    "        protein=rec.seq[35:-5].translate(to_stop=True) #Translate the putative CDS region to protein\n",
    "        if len(protein)==(len(rec)-40)/3-1: #check if there's a internal stop codon\n",
    "            rec_CDS=SeqRecord(Seq(str(rec.seq[35:-5]),rec.seq.alphabet),id=rec.id,description=\"Protein %i aa\" %len(protein))\n",
    "    # Save the coding sequence, keep the original id number and add the length of its protein product to the description. \n",
    "            CDS_seq.append(rec_CDS) # Put the valid CDS to the list\n",
    "            j+=1 #add one to the number of output sequences\n",
    "SeqIO.write(CDS_seq, \"../data/3_CDS_fasta/CDS_MS2_only.fasta\", \"fasta\") # At last output the list of valid sequences as a new .fasta file\n",
    "print (\"Read %i sequences and write %i CDS.\" %(i,j)) #Tell the user the numbers of input and output sequences \n"
   ]
  },
  {
   "cell_type": "code",
   "execution_count": 3,
   "metadata": {
    "collapsed": true
   },
   "outputs": [],
   "source": [
    "#This script divides sequences into two groups based on the core transcriptional element type and trims from its TSS to the 100th nt in CDS.\n",
    "from Bio.Seq import Seq\n",
    "from Bio import SeqIO\n",
    "from Bio.Alphabet import IUPAC\n",
    "from Bio.SeqRecord import SeqRecord\n",
    "import re\n",
    "\n",
    "def Inr_m5_TSS_trimmer (file_name):\n",
    "    records = [] #Create a new blank list for putative mRNA with Inr and m5 promoter\n",
    "    i=0 #This is used to count the number of input sequences\n",
    "    o_m5=0 #This is used to count the number of sequences with m5 element\n",
    "    o_Inr=0 #This is used to count the number of sequences with Inr element\n",
    "    for rec in SeqIO.parse(file_name, \"fasta\",IUPAC.unambiguous_dna): #Parse a .fasta file\n",
    "        i+=1 #add one to the number of input sequences\n",
    "        if re.search(r\"CCTTT[ATCG]{0,15}ATG$\",str(rec.seq[15:38])):\n",
    "    #Check if there's an m5 element within the 20 nt upstream ATG start codon.\n",
    "            m5_TSS=SeqRecord(Seq(re.search(r\"C(CTTT[ATCG]{0,15}ATG[ATCG]{97})[ATCG]+$\",\\\n",
    "                             str(rec.seq[15:-5])).group(1),rec.seq.alphabet),\\\n",
    "                             id=rec.id,description='m5_TSS_100CDS')\n",
    "    #The second cytosine of ‘CCTTT’ in an m5 element is the TSS, Remove the 5' part.\n",
    "            records.append(m5_TSS)\n",
    "            o_m5+=1 #add one to the number of sequences with m5 element\n",
    "        elif re.search(r\"[TCA]CA[TCA][TA][ATCG]{0,25}ATG$\",str(rec.seq[5:38])):\n",
    "    #Check if there's an Inr element within the 30 nt upstream ATG start codon\n",
    "            Inr_TSS=SeqRecord(Seq(re.search(r\"[TCA]C(A[TCA][TA][ATCG]{0,25}ATG[ATCG]{97})[ATCG]+$\",\\\n",
    "                              str(rec.seq[5:-5])).group(1),rec.seq.alphabet),\\\n",
    "                              id=rec.id,description='Inr_TSS_100CDS') \n",
    "    #The adenine of ‘TCANWY’ in an Inr element is the TSS. Remove the 5' part.\n",
    "            records.append(Inr_TSS)\n",
    "            o_Inr+=1 #add one to the number of sequences with Inr element\n",
    "    SeqIO.write(records, \"TSS_100CDS_\"+file_name, \"fasta\") \n",
    "    # At last write the list of sequences with m5 or Inr element as new .fasta files\n",
    "    print (\"Read %i sequences in total. Among them %i have m5 element while %i have Inr element.\" %(i,o_m5,o_Inr)) \n",
    "    #Tell users the numbers of input and output sequences "
   ]
  },
  {
   "cell_type": "code",
   "execution_count": 7,
   "metadata": {
    "collapsed": false
   },
   "outputs": [
    {
     "name": "stdout",
     "output_type": "stream",
     "text": [
      "Read 531 sequences in total. Among them 35 have m5 element while 369 have Inr element.\n"
     ]
    }
   ],
   "source": [
    "Inr_m5_TSS_trimmer('valid_MS2_only.fasta')"
   ]
  },
  {
   "cell_type": "code",
   "execution_count": 3,
   "metadata": {
    "collapsed": false
   },
   "outputs": [
    {
     "data": {
      "text/plain": [
       "300"
      ]
     },
     "execution_count": 3,
     "metadata": {},
     "output_type": "execute_result"
    }
   ],
   "source": [
    "#Randomize gene sequences with synonymous mutations\n",
    "from Bio import SeqIO\n",
    "from Bio.Alphabet import IUPAC\n",
    "from Bio.Seq import Seq\n",
    "from Bio.SeqRecord import SeqRecord\n",
    "from random import shuffle\n",
    "\n",
    "output=[]\n",
    "for rec in SeqIO.parse('test.fasta','fasta',IUPAC.unambiguous_dna):\n",
    "    for i in range(100):\n",
    "        UTR_5=str(rec.seq)[0:-100] #Slice the 5' UTR sequence\n",
    "        UTR_list=list(UTR_5) #Convert the 5' UTR to a list \n",
    "        shuffle(UTR_list) #shuffle the elements in the list\n",
    "        mut_UTR=\"\".join(UTR_list) #Join the list back to a string\n",
    "        CDS_99=str(rec.seq)[-100:-1] #Slice the CDS \n",
    "        CDS_codon_list=[CDS_99[n:n+3] for n in range(0, 99, 3)] #Convert the CDS to a list, each element being a codon\n",
    "        shuffle(CDS_codon_list) #Shuffle the triplet codons\n",
    "        mut_CDS_99=\"\".join(CDS_codon_list) #Join the codon list back to a string\n",
    "        Last=str(rec.seq)[-1] #Keep the last nt\n",
    "        rec_Mut=SeqRecord(Seq(mut_UTR+mut_CDS_99+Last,rec.seq.alphabet),id=rec.id,description='Mut_%i'%(i))\n",
    "        output.append(rec_Mut)\n",
    "SeqIO.write(output,'mut_TSS_100CDS_m5_EST_and_MS.fasta','fasta')"
   ]
  },
  {
   "cell_type": "code",
   "execution_count": 4,
   "metadata": {
    "collapsed": false
   },
   "outputs": [
    {
     "name": "stdout",
     "output_type": "stream",
     "text": [
      "Obtained the TSS and 100 CDS of 200 top200 and 200 bottom200 sequences.\n"
     ]
    }
   ],
   "source": [
    "#Find the sequences with top/bottom 200 translation efficiency\n",
    "import pandas as pd\n",
    "from Bio import SeqIO\n",
    "from Bio.Alphabet import IUPAC\n",
    "from Bio.Seq import Seq\n",
    "from Bio.SeqRecord import SeqRecord\n",
    "import re\n",
    "\n",
    "i=0 #Count the number of sequences with m5 element\n",
    "j=0 #Count the number of sequences with Inr element\n",
    "output_top=[] #Store the first 100nt CDS of all top 200 sequences\n",
    "output_bottom=[]#Store the first 100nt CDS of all bottom 200 sequences\n",
    "effi_top200= pd.read_csv('../data/8_top_bottom_200_effi/effi_top_200.csv')\n",
    "effi_top200_ID=list(effi_top200['Gene_ID'])\n",
    "effi_bottom200= pd.read_csv('../data/8_top_bottom_200_effi/effi_bottom_200.csv')\n",
    "effi_bottom200_ID=list(effi_bottom200['Gene_ID'])\n",
    "\n",
    "for rec in SeqIO.parse('../data/5_TSS_100CDS_general_trend/TSS_100CDS_valid_EST5_and_MS2.fasta','fasta',IUPAC.unambiguous_dna):\n",
    "    if rec.id in effi_top200_ID:\n",
    "        output_top.append(rec)\n",
    "        i+=1\n",
    "    elif rec.id in effi_bottom200_ID: \n",
    "        output_bottom.append(rec)\n",
    "        j+=1\n",
    "SeqIO.write(output_top,'../data/8_top_bottom_200_effi/top200_TSS_100CDS.fasta','fasta')\n",
    "SeqIO.write(output_bottom,'../data/8_top_bottom_200_effi/bottom200_TSS_100CDS.fasta','fasta')\n",
    "print ('Obtained the TSS and 100 CDS of %i top200 and %i bottom200 sequences.' %(i,j))\n"
   ]
  },
  {
   "cell_type": "code",
   "execution_count": 1,
   "metadata": {
    "collapsed": true
   },
   "outputs": [],
   "source": [
    "#This is the script to produce a series of sliding windows with the width of 30 bp for each sequence\n",
    "from Bio.Seq import Seq\n",
    "from Bio.SeqRecord import SeqRecord\n",
    "from Bio import SeqIO\n",
    "from Bio.Alphabet import IUPAC\n",
    "\n",
    "def window_30nt (file_name):\n",
    "    window_records=[] #Create a new blank list for the windows of every sequence\n",
    "    for rec in SeqIO.parse(file_name, \"fasta\"): #Parse a .fasta file\n",
    "        for i in range(len(rec)-29): \n",
    "#Create a variable i keeping the index of each window, run the loop for n times based on the length of the sequence.\n",
    "            index=101-len(rec)+i \n",
    "    #The index of each window is decided by its relative location to the start codon \"ATG\"\n",
    "            window_rec=SeqRecord(Seq(str(rec.seq)[i:i+30], rec.seq.alphabet),\\\n",
    "                                 id=\"Window_%i_%s\" %(index,rec.id),description=\"\")\n",
    "#Convert the sequence to a string, slice the string to 30 bp windows based on the index and add description to each window. \n",
    "            window_records.append(window_rec) #Add each window and its description to the list \"window_records\"\n",
    "    SeqIO.write(window_records, \"windows_\"+file_name, \"fasta\") \n",
    "    # At last output the list of windows as a new .fasta file"
   ]
  },
  {
   "cell_type": "code",
   "execution_count": 2,
   "metadata": {
    "collapsed": true
   },
   "outputs": [],
   "source": [
    "window_30nt('nr_EST_only_TSS_100CDS.fasta')\n",
    "window_30nt('nr_MS_only_TSS_100CDS.fasta')"
   ]
  },
  {
   "cell_type": "code",
   "execution_count": 3,
   "metadata": {
    "collapsed": false
   },
   "outputs": [
    {
     "data": {
      "text/plain": [
       "933"
      ]
     },
     "execution_count": 3,
     "metadata": {},
     "output_type": "execute_result"
    }
   ],
   "source": [
    "#This is to isolate sequences of -4_+38 for each gene with both types of evidence\n",
    "from Bio.Seq import Seq\n",
    "from Bio.SeqRecord import SeqRecord\n",
    "from Bio import SeqIO\n",
    "from Bio.Alphabet import IUPAC\n",
    "\n",
    "key_output=[] #Create a new blank list for the windows of every sequence\n",
    "for rec in SeqIO.parse('../data/5_TSS_100CDS_general_trend_GC/TSS_100CDS_valid_EST5_and_MS2.fasta', \"fasta\"): \n",
    "    window_key=SeqRecord(Seq(str(rec.seq)[-104:-62], rec.seq.alphabet),\\\n",
    "                        id=\"Window_key_%s\" %(rec.id),description=\"-4 to +38\")\n",
    "#Convert the sequence to a string, slice the string to 30 bp windows based on the index and add description to each window. \n",
    "    key_output.append(window_key) #Add each window and its description to the list \"window_records\"\n",
    "SeqIO.write(key_output,'../data/5_TSS_100CDS_general_trend_GC/key_window_EST5_and_MS2.fasta', \"fasta\") \n",
    "    # At last output the list of windows as a new .fasta file"
   ]
  },
  {
   "cell_type": "code",
   "execution_count": 4,
   "metadata": {
    "collapsed": false
   },
   "outputs": [
    {
     "data": {
      "text/plain": [
       "933"
      ]
     },
     "execution_count": 4,
     "metadata": {},
     "output_type": "execute_result"
    }
   ],
   "source": [
    "#This is to isolate the first 40 nt for each gene with both types of evidence\n",
    "from Bio.Seq import Seq\n",
    "from Bio.SeqRecord import SeqRecord\n",
    "from Bio import SeqIO\n",
    "from Bio.Alphabet import IUPAC\n",
    "\n",
    "end_output=[] #Create a new blank list for the windows of every sequence\n",
    "for rec in SeqIO.parse('../data/5_TSS_100CDS_general_trend_GC/TSS_100CDS_valid_EST5_and_MS2.fasta', \"fasta\"): \n",
    "    window_end=SeqRecord(Seq(str(rec.seq)[0:40], rec.seq.alphabet),\\\n",
    "                        id=\"5_end_%s\" %(rec.id),description=\"First 40 nt from 5 terminus\")\n",
    "#Convert the sequence to a string, slice the string to 30 bp windows based on the index and add description to each window. \n",
    "    end_output.append(window_end) #Add each window and its description to the list \"window_records\"\n",
    "SeqIO.write(end_output,'../data/5_TSS_100CDS_general_trend_GC/Five_terminus_EST5_and_MS2.fasta', \"fasta\") \n",
    "    # At last output the list of windows as a new .fasta file"
   ]
  },
  {
   "cell_type": "code",
   "execution_count": 3,
   "metadata": {
    "collapsed": false
   },
   "outputs": [],
   "source": [
    "#Extract MFE values of first 40nt or key window from RNAfold output\n",
    "from Bio import SeqIO\n",
    "import re\n",
    "import numpy as np\n",
    "\n",
    "Gene_ID=['Gene_ID']\n",
    "MFE_5=['MFE_5terminus']\n",
    "MFE_key=['MFE_key']\n",
    "output=[]\n",
    "for rec in SeqIO.parse(\"../data/5_TSS_100CDS_general_trend_GC/MFE_Five_terminus_EST5_and_MS2.fasta\", \"fasta\"):\n",
    "    Gene_ID.append(rec.id[6:])\n",
    "    MFE_5.append(re.search(r\"\\(([\\-0-9\\.]+)\\)$\",str(rec.seq)).group(1))\n",
    "for rec in SeqIO.parse(\"../data/5_TSS_100CDS_general_trend_GC/MFE_key_window_EST5_and_MS2.fasta\", \"fasta\"):\n",
    "    MFE_key.append(re.search(r\"\\(([\\-0-9\\.]+)\\)$\",str(rec.seq)).group(1))\n",
    "output=np.vstack((Gene_ID,MFE_5,MFE_key))\n",
    "np.savetxt('../data/5_TSS_100CDS_general_trend_GC/values_MFE_5terminus_key.csv',output.T,fmt='%s',delimiter=',')"
   ]
  },
  {
   "cell_type": "code",
   "execution_count": 2,
   "metadata": {
    "collapsed": true
   },
   "outputs": [],
   "source": [
    "#Extract MFE values for each 30nt wide window.\n",
    "from Bio import SeqIO\n",
    "import re\n",
    "import io \n",
    "\n",
    "def MFE_value_extractor_plot (file_name):\n",
    "    i=71 #This is a variable storing window numbers. It starts with the highest window number.\n",
    "    out_MFE = [] #This is a blank list storing the final output\n",
    "    while i>-30: #It is the condition when we continue the while loop.\n",
    "        row_list=[] #This is a blank list storing a series of MFE values for a specific window\n",
    "        row_list.append(str(i)) #This is the window index of each row\n",
    "        for rec in SeqIO.parse(file_name, \"fasta\"): #Parse a .fasta file with MFE values\n",
    "            if re.search(r\"Window_([\\-0-9]+)_\",str(rec.id)).group(1) ==str(i): #Check if the current sequence comes from the same window \n",
    "                MFE_value=re.search(r\"\\(([\\-0-9\\.]+)\\)$\",str(rec.seq)).group(1) #Extract the MFE value\n",
    "                row_list.append(str(MFE_value)) \n",
    "            #If yes, add the folding energy value to the end of the window index\n",
    "        if len(row_list)>1: #If thereare more than one element (window index), continue.\n",
    "            row_str=\",\".join(row_list) #After the for loop, join each element in the list to astring by \",\"\n",
    "            out_MFE.append(row_str) #Add the string with MFEs separated by comma to the final output list\n",
    "            i-=1 #Subtract one number to i and proceed the while loop to check the next window\n",
    "        else: #If only a window index exists, jump out of the loop\n",
    "             break\n",
    "    with io.open (\"values_\"+file_name[0:-5]+\"csv\",'w',newline='') as f: #open a .csv file and write the output list\n",
    "        f.write(unicode('\\n'.join(out_MFE))) #Join the output list to a string by a carriage return. \n",
    "        #Must convert to unicode and use io.open in Python 2.7. Different in Python 3.6  \n",
    "    print(\"values_\"+file_name[0:-5]+\"csv\") #Tell users the names of the output .csv files"
   ]
  },
  {
   "cell_type": "code",
   "execution_count": 3,
   "metadata": {
    "collapsed": false
   },
   "outputs": [
    {
     "name": "stdout",
     "output_type": "stream",
     "text": [
      "values_MFE_windows_nr_MS_only_TSS_100CDS.csv\n"
     ]
    }
   ],
   "source": [
    "#MFE_value_extractor_plot('MFE_windows_nr_EST_only_TSS_100CDS.fasta')\n",
    "MFE_value_extractor_plot('MFE_windows_nr_MS_only_TSS_100CDS.fasta')"
   ]
  },
  {
   "cell_type": "code",
   "execution_count": 7,
   "metadata": {
    "collapsed": false
   },
   "outputs": [],
   "source": [
    "#This is to plot a series of boxplots showing MFE coverage given by synonymous iLOV genes\n",
    "import numpy as np\n",
    "\n",
    "final_output=[['window_index','Mean','STD','Count']]\n",
    "with open('values_MFE_windows_mut_TSS_100CDS_EST5_or_MS2.csv','r') as f:    \n",
    "    for line in f: #Read the csv file line by line\n",
    "        line_output=[] #Save a series of window positions in this list variable\n",
    "        values=[] #Save a series of lists in this list variable. Each list contains MFE values of a particular window.\n",
    "        line_list=line.split(',') #Split each line to a list with ',' as a sep\n",
    "        window_index=int(line_list[0]) #Save the window position in x_inde\n",
    "        values=map(float,line_list[1:]) #Convert MFE values to float numbers\n",
    "        values_arr=np.array(values)\n",
    "        mean_value=np.mean(values_arr)\n",
    "        std_value=np.std(values_arr)\n",
    "        count_value=len(values)\n",
    "        line_output=[window_index,mean_value,std_value,count_value]\n",
    "        final_output.append(line_output)\n",
    "np.savetxt('statistics_MFE_mut_EST5_or_MS2.txt',np.array(final_output),fmt='%s',delimiter='\\t')"
   ]
  },
  {
   "cell_type": "code",
   "execution_count": 6,
   "metadata": {
    "collapsed": false
   },
   "outputs": [],
   "source": [
    "#This is to calculate the GC content values at each window position\n",
    "from Bio import SeqIO\n",
    "from Bio.Alphabet import IUPAC\n",
    "from Bio.SeqUtils import GC\n",
    "import re\n",
    "import io \n",
    "\n",
    "i=71 #This is a variable storing window numbers. It starts with the highest window number.\n",
    "out_GC= [] #This is a blank list storing the final output\n",
    "while i>-30: #It is the condition when we continue the while loop.\n",
    "    row_list=[str(i)] #This is a blank list storing a series of GC content values for a specific window\n",
    "    for rec in SeqIO.parse('../../permutation_mass_data/windows_mut_EST5_or_MS2.fasta',\\\n",
    "                           'fasta',IUPAC.unambiguous_dna): #Parse a .fasta file with MFE values\n",
    "        if re.search(r\"Window_([\\-0-9]+)_\",str(rec.id)).group(1) ==str(i): #Check if the current sequence comes from the same window \n",
    "            GC_content=round(GC(rec.seq),2) #Extract the MFE value\n",
    "            row_list.append(str(GC_content))\n",
    "            #If yes, add the folding energy value to the end of the window index\n",
    "    if len(row_list)>1: #If thereare more than one element (window index), continue.\n",
    "        row_str=\",\".join(row_list) #After the for loop, join each element in the list to astring by \",\"\n",
    "        out_GC.append(row_str) #Add the string with MFEs separated by comma to the final output list\n",
    "        i-=1 #Subtract one number to i and proceed the while loop to check the next window\n",
    "    else: #If only a window index exists, jump out of the loop\n",
    "        break\n",
    "with io.open ('../data/6_TSS_100CDS_permutation/values_GC_mut_EST5_or_MS2.csv','w',newline='') as f: #open a .csv file and write the output list\n",
    "    f.write(unicode('\\n'.join(out_GC))) #Join the output list to a string by a carriage return. \n",
    "        #Must convert to unicode and use io.open in Python 2.7. Different in Python 3.6  "
   ]
  },
  {
   "cell_type": "code",
   "execution_count": 4,
   "metadata": {
    "collapsed": true
   },
   "outputs": [],
   "source": [
    "#This is to calculate the mean value and STD of GC contents for each window\n",
    "import pandas as pd\n",
    "from pandas import DataFrame\n",
    "\n",
    "def GC_statistics (file_name):\n",
    "    GC_content = pd.read_csv(file_name,index_col=0,header=None)\n",
    "#Read a .csv file. \"index_col=0\" makes the first column the index for each row. \"header=None\" says there's no colomn index.\n",
    "    column1=DataFrame(GC_content.mean(axis=1), columns=['Mean'])\n",
    "#Calculate the mean value of each row, add index \"Mean\" on top of this column and save it to a variable as a DataFrame\n",
    "    column2=DataFrame(GC_content.std(axis=1), columns=['STD'])\n",
    "#Calculate the STD of each row, add index \"STD\" on top of this column and save it to a variable as a DataFrame\n",
    "    column3=DataFrame(GC_content.count(axis=1), columns=['Count'])\n",
    "#Count the number of values of each row    \n",
    "    columns=pd.concat([column1, column2,column3], axis=1)\n",
    "    #Concatenate the above two columns together\n",
    "    columns.to_csv('statistaics_'+file_name)\n",
    "    #write the result as a new .csv file."
   ]
  },
  {
   "cell_type": "code",
   "execution_count": 8,
   "metadata": {
    "collapsed": false
   },
   "outputs": [],
   "source": [
    "#This is to calculate the mean and STD of GC contents for permutated sequences\n",
    "import numpy as np\n",
    "\n",
    "final_output=[['window_index','Mean','STD','Count']]\n",
    "with open('../data/6_TSS_100CDS_permutation/values_GC_mut_EST5_and_MS2.csv','r') as f:    \n",
    "    for line in f: #Read the csv file line by line\n",
    "        line_output=[] #Save a series of window positions in this list variable\n",
    "        values=[] #Save a series of lists in this list variable. Each list contains MFE values of a particular window.\n",
    "        line_list=line.split(',') #Split each line to a list with ',' as a sep\n",
    "        window_index=int(line_list[0]) #Save the window position in x_inde\n",
    "        values=map(float,line_list[1:]) #Convert MFE values to float numbers\n",
    "        values_arr=np.array(values)\n",
    "        mean_value=np.mean(values_arr)\n",
    "        std_value=np.std(values_arr)\n",
    "        count_value=len(values)\n",
    "        line_output=[window_index,mean_value,std_value,count_value]\n",
    "        final_output.append(line_output)\n",
    "np.savetxt('../data/6_TSS_100CDS_permutation/statistics_GC_mut_EST5_and_MS2.txt',np.array(final_output),fmt='%s',delimiter='\\t')"
   ]
  }
 ],
 "metadata": {
  "kernelspec": {
   "display_name": "Python 2",
   "language": "python",
   "name": "python2"
  },
  "language_info": {
   "codemirror_mode": {
    "name": "ipython",
    "version": 2
   },
   "file_extension": ".py",
   "mimetype": "text/x-python",
   "name": "python",
   "nbconvert_exporter": "python",
   "pygments_lexer": "ipython2",
   "version": "2.7.13"
  }
 },
 "nbformat": 4,
 "nbformat_minor": 2
}
