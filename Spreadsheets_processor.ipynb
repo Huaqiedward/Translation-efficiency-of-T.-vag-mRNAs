{
 "cells": [
  {
   "cell_type": "code",
   "execution_count": 2,
   "metadata": {
    "collapsed": true
   },
   "outputs": [],
   "source": [
    "#This is to calculate translation efficiency for genes with both EST and MS evidence\n",
    "import pandas as pd\n",
    "genes_EST= pd.read_table('../data/GenesByEST_Summary.txt',sep='\\t',index_col='Gene_ID')\n",
    "genes_MS= pd.read_table('../data/GenesByMassSpec_Summary.txt',sep='\\t',index_col='Gene_ID')\n",
    "#Read data from two spreadsheets and use column 'Gene_ID' as index\n",
    "genes_EST5=genes_EST[genes_EST['Number_of_ESTs']>4]\n",
    "genes_MS2=genes_MS[genes_MS['Total_Number_of_Spectra']>1]\n",
    "#Select genes passing the minimum number threshold\n",
    "genes_merged=pd.merge(genes_EST5,genes_MS2,right_index=True,left_index=True)\n",
    "#Merge those two spreadsheets based on index column \n",
    "genes_EST_MS=genes_merged.ix[:,['Number_of_ESTs','Total_Number_of_Spectra']]\n",
    "#Extract 3 columns from the merged DataFrame\n",
    "Translation_efficiency=genes_EST_MS['Total_Number_of_Spectra']/genes_EST_MS['Number_of_ESTs']\n",
    "Translation_efficiency.name='Translation_efficiency'\n",
    "#Calculate translation efficiency as quotient of protein versus mRNA abundance, give the column a head\n",
    "genes_EST_MS_info=pd.concat([genes_EST_MS,Translation_efficiency],axis=1)\n",
    "#Add the efficiency Series to the right side of the abundance DataFrame\n",
    "sorted_trans_effi=genes_EST_MS_info.sort_index(by='Translation_efficiency')\n",
    "#Sort (rank) the gene_id rows based on translation efficiency\n",
    "sorted_trans_effi.to_csv('../data/1_Original_fasta/genes_trans_effi.csv')\n",
    "#Save the sorted DataFrame to a .csv file"
   ]
  },
  {
   "cell_type": "code",
   "execution_count": 1,
   "metadata": {
    "collapsed": false
   },
   "outputs": [
    {
     "name": "stderr",
     "output_type": "stream",
     "text": [
      "/Library/Frameworks/Python.framework/Versions/2.7/lib/python2.7/site-packages/ipykernel/__main__.py:5: FutureWarning: currently extract(expand=None) means expand=False (return Index/Series/DataFrame) but in a future version of pandas this will be changed to expand=True (return DataFrame)\n",
      "/Library/Frameworks/Python.framework/Versions/2.7/lib/python2.7/site-packages/ipykernel/__main__.py:7: FutureWarning: currently extract(expand=None) means expand=False (return Index/Series/DataFrame) but in a future version of pandas this will be changed to expand=True (return DataFrame)\n"
     ]
    }
   ],
   "source": [
    "#Add CAI values to genes with both EST and MS evidence\n",
    "import pandas as pd\n",
    "genes_CAI= pd.read_table('../data/4_CAI_values_CSV/CAI_EST5_and_MS2.txt',sep='\\t')\n",
    "#Read the spreadsheet with CAI info\n",
    "Gene_ID=genes_CAI['NAME'].str.extract('(TVAG_[0-9]{6})')\n",
    "Gene_ID.name='Gene_ID'\n",
    "Protein_length=genes_CAI['NAME'].str.extract('Protein\\s([0-9]+)\\saa')\n",
    "Protein_length.name='Protein_length'\n",
    "#Extract gene_id and protein_length info from the first column of that DataFrame \n",
    "CAI_info=pd.concat([Gene_ID,Protein_length,genes_CAI['CAI']],axis=1)\n",
    "#Join gene_id, protein_length and CAI columns together to a single DataFrame\n",
    "genes_trans_effi=pd.read_csv('../data/0_Original_abundance/genes_trans_effi.csv')\n",
    "#Read the .csv file generated above\n",
    "trans_effi_CAI=pd.merge(genes_trans_effi,CAI_info,left_on='Gene_ID',right_on='Gene_ID')\n",
    "#Merge two spreadsheets to a single one based on gene_id\n",
    "trans_effi_CAI.to_csv('../data/4_CAI_values_CSV/trans_effi_CAI.csv')\n",
    "#Save the merged DataFrame to a .csv file"
   ]
  },
  {
   "cell_type": "code",
   "execution_count": 9,
   "metadata": {
    "collapsed": false
   },
   "outputs": [
    {
     "name": "stderr",
     "output_type": "stream",
     "text": [
      "/Library/Frameworks/Python.framework/Versions/2.7/lib/python2.7/site-packages/ipykernel/__main__.py:5: FutureWarning: currently extract(expand=None) means expand=False (return Index/Series/DataFrame) but in a future version of pandas this will be changed to expand=True (return DataFrame)\n",
      "/Library/Frameworks/Python.framework/Versions/2.7/lib/python2.7/site-packages/ipykernel/__main__.py:7: FutureWarning: currently extract(expand=None) means expand=False (return Index/Series/DataFrame) but in a future version of pandas this will be changed to expand=True (return DataFrame)\n"
     ]
    }
   ],
   "source": [
    "#Add CAI values to genes with MS>=2 evidence only\n",
    "import pandas as pd\n",
    "genes_CAI= pd.read_table('../data/4_CAI_values_CSV/CAI_MS2_only.txt',sep='\\t')\n",
    "#Read the spreadsheet with CAI info\n",
    "Gene_ID=genes_CAI['NAME'].str.extract('(TVAG_[0-9]{6})')\n",
    "Gene_ID.name='Gene_ID'\n",
    "Protein_length=genes_CAI['NAME'].str.extract('Protein\\s([0-9]+)\\saa')\n",
    "Protein_length.name='Protein_length'\n",
    "#Extract gene_id and protein_length info from the first column of that DataFrame \n",
    "CAI_info=pd.concat([Gene_ID,Protein_length,genes_CAI['CAI']],axis=1)\n",
    "#Join gene_id, protein_length and CAI columns together to a single DataFrame\n",
    "MS_info=pd.read_table('../data/0_Original_abundance/GenesByMassSpec_Summary.txt',sep='\\t')\n",
    "#Read the spreadsheet with protein abundance info\n",
    "MS_CAI=pd.merge(MS_info,CAI_info,left_on='Gene_ID',right_on='Gene_ID')\n",
    "#Merge two spreadsheets to a single one based on gene_id\n",
    "MS_CAI_output=MS_CAI[['Gene_ID','Total_Number_of_Spectra','Protein_length','CAI']]\n",
    "MS_CAI_output.to_csv('../data/4_CAI_values_CSV/MS2_only_CAI.csv')\n",
    "#Save the merged DataFrame to a .csv file"
   ]
  },
  {
   "cell_type": "code",
   "execution_count": 12,
   "metadata": {
    "collapsed": false
   },
   "outputs": [
    {
     "name": "stderr",
     "output_type": "stream",
     "text": [
      "/Library/Frameworks/Python.framework/Versions/2.7/lib/python2.7/site-packages/ipykernel/__main__.py:5: FutureWarning: currently extract(expand=None) means expand=False (return Index/Series/DataFrame) but in a future version of pandas this will be changed to expand=True (return DataFrame)\n",
      "/Library/Frameworks/Python.framework/Versions/2.7/lib/python2.7/site-packages/ipykernel/__main__.py:7: FutureWarning: currently extract(expand=None) means expand=False (return Index/Series/DataFrame) but in a future version of pandas this will be changed to expand=True (return DataFrame)\n"
     ]
    }
   ],
   "source": [
    "#Add CAI values to genes with EST >=5 evidence only\n",
    "import pandas as pd\n",
    "genes_CAI= pd.read_table('../data/4_CAI_values_CSV/CAI_EST5_only.txt',sep='\\t')\n",
    "#Read the spreadsheet with CAI info\n",
    "Gene_ID=genes_CAI['NAME'].str.extract('(TVAG_[0-9A-Z_]+)\\s')\n",
    "Gene_ID.name='Gene_ID'\n",
    "Protein_length=genes_CAI['NAME'].str.extract('Protein\\s([0-9]+)\\saa')\n",
    "Protein_length.name='Protein_length'\n",
    "#Extract gene_id and protein_length info from the first column of that DataFrame \n",
    "CAI_info=pd.concat([Gene_ID,Protein_length,genes_CAI['CAI']],axis=1)\n",
    "#Join gene_id, protein_length and CAI columns together to a single DataFrame\n",
    "\n",
    "EST_info=pd.read_table('../data/0_Original_abundance/GenesByEST_Summary.txt',sep='\\t')\n",
    "#Read the spreadsheet with protein abundance info\n",
    "EST_CAI=pd.merge(EST_info,CAI_info,left_on='Gene_ID',right_on='Gene_ID')\n",
    "#Merge two spreadsheets to a single one based on gene_id\n",
    "EST_CAI_output=EST_CAI[['Gene_ID','Number_of_ESTs','Protein_length','CAI']]\n",
    "EST_CAI_output.to_csv('../data/4_CAI_values_CSV/EST5_only_CAI.csv')\n",
    "#Save the merged DataFrame to a .csv file"
   ]
  },
  {
   "cell_type": "code",
   "execution_count": 14,
   "metadata": {
    "collapsed": false
   },
   "outputs": [
    {
     "name": "stderr",
     "output_type": "stream",
     "text": [
      "/Library/Frameworks/Python.framework/Versions/2.7/lib/python2.7/site-packages/ipykernel/__main__.py:5: FutureWarning: currently extract(expand=None) means expand=False (return Index/Series/DataFrame) but in a future version of pandas this will be changed to expand=True (return DataFrame)\n",
      "/Library/Frameworks/Python.framework/Versions/2.7/lib/python2.7/site-packages/ipykernel/__main__.py:7: FutureWarning: currently extract(expand=None) means expand=False (return Index/Series/DataFrame) but in a future version of pandas this will be changed to expand=True (return DataFrame)\n"
     ]
    }
   ],
   "source": [
    "#Add CAI values to genes with EST or MS evidence\n",
    "import pandas as pd\n",
    "genes_CAI= pd.read_table('../data/4_CAI_values_CSV/CAI_EST5_or_MS2.txt',sep='\\t')\n",
    "#Read the spreadsheet with CAI info\n",
    "Gene_ID=genes_CAI['NAME'].str.extract('(TVAG_[0-9A-Z_]+)\\s')\n",
    "Gene_ID.name='Gene_ID'\n",
    "Protein_length=genes_CAI['NAME'].str.extract('Protein\\s([0-9]+)\\saa')\n",
    "Protein_length.name='Protein_length'\n",
    "#Extract gene_id and protein_length info from the first column of that DataFrame \n",
    "CAI_info=pd.concat([Gene_ID,Protein_length,genes_CAI['CAI']],axis=1)\n",
    "#Join gene_id, protein_length and CAI columns together to a single DataFrame\n",
    "CAI_info.to_csv('../data/EST5_or_MS2_CAI.csv')\n",
    "#Save the merged DataFrame to a .csv file"
   ]
  },
  {
   "cell_type": "code",
   "execution_count": 1,
   "metadata": {
    "collapsed": true
   },
   "outputs": [],
   "source": [
    "#Report Gene_ID and promoter_type after M5_Inr sorting\n",
    "from Bio import SeqIO\n",
    "from Bio.Alphabet import IUPAC\n",
    "import numpy as np\n",
    "\n",
    "ID=['Gene_ID']\n",
    "promoter=['promoter_type']\n",
    "\n",
    "for rec in SeqIO.parse('TSS_100CDS_valid_EST5_and_MS2.fasta', \"fasta\",IUPAC.unambiguous_dna):\n",
    "    ID.append(rec.id)\n",
    "    promoter.append(rec.description[12:-11])\n",
    "ID_arr=np.array(ID)\n",
    "promoter_arr=np.array(promoter)\n",
    "output=np.vstack((ID_arr,promoter_arr))\n",
    "np.savetxt('ID_promoter_EST5_and_MS2.txt',output.T,fmt='%s',delimiter='\\t')    \n",
    "    "
   ]
  },
  {
   "cell_type": "code",
   "execution_count": 3,
   "metadata": {
    "collapsed": true
   },
   "outputs": [],
   "source": [
    "#Extract necessary info of sequences with top or bottom 200 translation efficiency.\n",
    "import pandas as pd\n",
    "genes_EST_MS= pd.read_table('../data/8_top_bottom_200_effi/ID_promoter_EST5_and_MS2.txt',sep='\\t',index_col='Gene_ID')\n",
    "genes_m5_Inr= pd.read_csv('../data/4_CAI_values_CSV/trans_effi_CAI.csv',index_col='Gene_ID')\n",
    "#Read data from two spreadsheets and use column 'Gene_ID' as index\n",
    "genes_merged=pd.merge(genes_EST_MS,genes_m5_Inr,right_index=True,left_index=True)\n",
    "#Merge those two spreadsheets based on index column \n",
    "effi_bottom_200=genes_merged.ix[0:200,['Translation_efficiency','promoter_type']]\n",
    "effi_top_200=genes_merged.ix[-200:,['Translation_efficiency','promoter_type']]\n",
    "effi_top_200.to_csv('../data/8_top_bottom_200_effi/effi_top_200.csv')\n",
    "effi_bottom_200.to_csv('../data/8_top_bottom_200_effi/effi_bottom_200.csv')\n",
    "#Save the sorted DataFrame to a .csv file"
   ]
  },
  {
   "cell_type": "code",
   "execution_count": 1,
   "metadata": {
    "collapsed": false
   },
   "outputs": [],
   "source": [
    "#Add MFE values of the first 40nt and key window to each gene with both MS and EST evidence.\n",
    "import pandas as pd\n",
    "effi= pd.read_csv('../data/4_CAI_values_CSV/trans_effi_CAI.csv',index_col='Gene_ID')\n",
    "MFE= pd.read_csv('../data/5_TSS_100CDS_general_trend_GC/values_MFE_5terminus_key.csv',index_col='Gene_ID')\n",
    "#Read data from two spreadsheets and use column 'Gene_ID' as index\n",
    "effi_MFE=pd.merge(effi,MFE,right_index=True,left_index=True)\n",
    "#Merge those two spreadsheets based on index column \n",
    "effi_MFE.ix[:,['Translation_efficiency','MFE_5terminus','MFE_key','CAI']].to_csv('../data/4_CAI_values_CSV/trans_effi_MFE_CAI.csv')\n",
    "#Save the sorted DataFrame to a .csv file"
   ]
  }
 ],
 "metadata": {
  "kernelspec": {
   "display_name": "Python 2",
   "language": "python",
   "name": "python2"
  },
  "language_info": {
   "codemirror_mode": {
    "name": "ipython",
    "version": 2
   },
   "file_extension": ".py",
   "mimetype": "text/x-python",
   "name": "python",
   "nbconvert_exporter": "python",
   "pygments_lexer": "ipython2",
   "version": "2.7.13"
  }
 },
 "nbformat": 4,
 "nbformat_minor": 2
}
